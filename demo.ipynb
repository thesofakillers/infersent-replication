{
 "cells": [
  {
   "cell_type": "markdown",
   "id": "d69513c8-123d-436a-9c25-10e7c47a85d0",
   "metadata": {},
   "source": [
    "# InferSent - Demonstration\n",
    "\n",
    "This notebook serves as a demonstration of the usage of a trained InferSent model, as well as training and performance results on the original SNLI task and on SentEval. The notebook also provides some error analysis (discussion) on the results."
   ]
  },
  {
   "cell_type": "markdown",
   "id": "542cae2b-e857-43f8-b2ab-347d6803d5aa",
   "metadata": {
    "tags": []
   },
   "source": [
    "## Setup\n",
    "\n",
    "The notebook assumes the user has access to the pretrained models, logs and evaluation results provided via the [archive.org](https://archive.org) link specified in `README.md`. The notebook also assumes the user has run the `data.py` script with its default arguments such that aligned glove embeddings are available.\n",
    "\n",
    "First we define our imports"
   ]
  },
  {
   "cell_type": "code",
   "execution_count": 1,
   "id": "d05433cd-4077-4266-bc77-01edc90763b1",
   "metadata": {},
   "outputs": [],
   "source": [
    "import torch\n",
    "import matplotlib.pyplot as plt\n",
    "import numpy as np\n",
    "\n",
    "from models.infersent import InferSent\n",
    "import utils"
   ]
  },
  {
   "cell_type": "markdown",
   "id": "605f988b-afe9-4f01-9d14-855e18133a78",
   "metadata": {},
   "source": [
    "We continue by defining a configuration dictionary that we can access throughout the demo. Of course we can change the values of our config accordingly."
   ]
  },
  {
   "cell_type": "code",
   "execution_count": 2,
   "id": "67682d94-0775-4239-8bbb-d58374db7c5f",
   "metadata": {},
   "outputs": [],
   "source": [
    "demo_config = {\n",
    "    # one of 'baseline', 'lstm', 'bilstm', 'maxpoolbilstm'\n",
    "    \"encoder_type\": \"maxpoolbilstm\",\n",
    "    # path to model checkpoint. by default we load the maxpoolbilstm\n",
    "    \"checkpoint_path\": \"logs/maxpoolbilstm/version_3/checkpoints/epoch=6-step=60088.ckpt\",\n",
    "    # random seed for reproducibility\n",
    "    \"seed\": 42,\n",
    "    # where to load aligned GloVe torch tensor from\n",
    "    \"aligned_glove\": \"data/aligned_glove.pt\",\n",
    "}"
   ]
  },
  {
   "cell_type": "markdown",
   "id": "7c24eef4-574f-4f12-90e0-bc114be13c29",
   "metadata": {},
   "source": [
    "## Model Loading\n",
    "\n",
    "We can instantiate the model we will use from the checkpoint path we defined. Because the GloVe embeddings are not saved in the model, after instatiating our model we load them into it in a separate call."
   ]
  },
  {
   "cell_type": "code",
   "execution_count": 3,
   "id": "796dd346-2412-4ee6-9614-3c461d55ff73",
   "metadata": {},
   "outputs": [],
   "source": [
    "# instantiate pretrained model\n",
    "model = InferSent.load_from_checkpoint(demo_config[\"checkpoint_path\"])\n",
    "# load aligned GloVe embeddings from disk\n",
    "aligned_glove = torch.load(demo_config[\"aligned_glove\"])\n",
    "# and load them into our model\n",
    "model.load_embeddings(aligned_glove)"
   ]
  },
  {
   "cell_type": "markdown",
   "id": "a430e578-0f67-46ac-b8cd-23358a3f5487",
   "metadata": {},
   "source": [
    "## Inference examples\n",
    "\n",
    "The InferSent model is trained to perform Natural Language Inference (NLI), i.e. predicting whether a \"hypothesis\" sentence is true (\"entailment\"), not true (\"contradiction\") or neither (\"neutral\") given a \"premise\" sentence.\n",
    "\n",
    "This task is a \"proxy\" task used for training an encoder sub-model that can be used to embed sentences.\n",
    "\n",
    "Below, we will first see how we can use the model for performing NLI and then how we can use its encoder to obtain an embedding (vector)."
   ]
  },
  {
   "cell_type": "markdown",
   "id": "3d43eb86-d79e-4792-865a-d6fc0f9dab2e",
   "metadata": {},
   "source": [
    "### NLI\n",
    "\n",
    "Here is our model predicting the entailment between a few pairs of sentences"
   ]
  },
  {
   "cell_type": "code",
   "execution_count": 4,
   "id": "41ca43d8-ad26-43fe-ac9d-351e78b08525",
   "metadata": {},
   "outputs": [],
   "source": [
    "# first, a quick helper function for printing\n",
    "def print_entailment_res(premise, hypothesis, result):\n",
    "    print(f\"premise: {premise}\")\n",
    "    print(f\"hypothesis: {hypothesis}\")\n",
    "    print(f\"model prediction: {result}\")\n",
    "    print(\"------------\\n\")\n"
   ]
  },
  {
   "cell_type": "code",
   "execution_count": 5,
   "id": "43abe6b4-e239-48a5-ab9e-69e594a1a7e6",
   "metadata": {},
   "outputs": [
    {
     "name": "stdout",
     "output_type": "stream",
     "text": [
      "premise: A concave lens is thinner in the middle than it is near its edges.\n",
      "hypothesis: A concave lens is thicker at the edges than it is in the middle.\n",
      "model prediction: entailment\n",
      "------------\n",
      "\n",
      "premise: but that takes too much planning\n",
      "hypothesis: It doesn't take much planning.\n",
      "model prediction: contradiction\n",
      "------------\n",
      "\n",
      "premise: Energy, heat and/or sound are forms of matter\n",
      "hypothesis: Heat, light, and sound are all different forms of energy.\n",
      "model prediction: neutral\n",
      "------------\n",
      "\n"
     ]
    }
   ],
   "source": [
    "# entailment example from SciTail\n",
    "premise_1 = \"A concave lens is thinner in the middle than it is near its edges.\"\n",
    "hypothesis_1 = \"A concave lens is thicker at the edges than it is in the middle.\"\n",
    "result_1 = model.predict(premise_1, hypothesis_1)\n",
    "print_entailment_res(premise_1, hypothesis_1, result_1)\n",
    "\n",
    "# contradiction example from multiNLI\n",
    "premise_2 = \"but that takes too much planning\"\n",
    "hypothesis_2 = \"It doesn't take much planning.\"\n",
    "result_2 = model.predict(premise_2, hypothesis_2)\n",
    "print_entailment_res(premise_2, hypothesis_2, result_2)\n",
    "\n",
    "# neutral example from SciTail\n",
    "premise_3 = \"Energy, heat and/or sound are forms of matter\"\n",
    "hypothesis_3 = \"Heat, light, and sound are all different forms of energy.\"\n",
    "result_3 = model.predict(premise_3, hypothesis_3)\n",
    "print_entailment_res(premise_3, hypothesis_3, result_3)"
   ]
  },
  {
   "cell_type": "markdown",
   "id": "4dd78b96-74d9-4709-87e4-8d5ca0e21724",
   "metadata": {},
   "source": [
    "Don't trust that those weren't just hard-coded in the model? Try with some sentences of your own!"
   ]
  },
  {
   "cell_type": "code",
   "execution_count": 6,
   "id": "383affa7-3c40-4e28-bba3-9fdf56185ed9",
   "metadata": {},
   "outputs": [
    {
     "name": "stdout",
     "output_type": "stream",
     "text": [
      "premise: Replace this string with your premise.\n",
      "hypothesis: Replace this string with your hypothesis.\n",
      "model prediction: neutral\n",
      "------------\n",
      "\n"
     ]
    }
   ],
   "source": [
    "# replace these strings and rerun this cell\n",
    "premise_yours = \"Replace this string with your premise.\"\n",
    "hypothesis_yours = \"Replace this string with your hypothesis.\"\n",
    "result_yours = model.predict(premise_yours, hypothesis_yours)\n",
    "\n",
    "print_entailment_res(premise_yours, hypothesis_yours, result_yours)"
   ]
  },
  {
   "cell_type": "markdown",
   "id": "e9c6a27f-828c-49b6-882d-31f8823a5565",
   "metadata": {},
   "source": [
    "### Sentence Encoding"
   ]
  },
  {
   "cell_type": "markdown",
   "id": "ea189623-229e-4a4e-98df-8334d4ef0477",
   "metadata": {},
   "source": [
    "Here is our model encoding a few sentences. Of course, just embedding a sentence is quite useless if you don't do anything with the embedding afterwards, but this is just a quick demonstration which can be extended."
   ]
  },
  {
   "cell_type": "code",
   "execution_count": 7,
   "id": "39568439-6039-4c16-ba7f-775b7dd29c41",
   "metadata": {},
   "outputs": [],
   "source": [
    "# first a helper function\n",
    "def visualize_embedding(sentence, embedding):\n",
    "    print(embedding)\n",
    "    plt.figure(figsize=(12, 2))\n",
    "    plt.title(f\"'{sentence}'\")\n",
    "    plt.xlabel(\"dimension\")\n",
    "    plt.bar(np.arange(len(embedding)), embedding.cpu().numpy())\n",
    "    plt.tight_layout()\n",
    "    plt.show()\n",
    "    print(\"\\n\")"
   ]
  },
  {
   "cell_type": "code",
   "execution_count": 8,
   "id": "127e1d39-448d-4516-bd8a-513d370ac649",
   "metadata": {},
   "outputs": [
    {
     "name": "stdout",
     "output_type": "stream",
     "text": [
      "tensor([ 0.0513, -0.0105,  0.0309,  ...,  0.0399, -0.0280,  0.1223])\n"
     ]
    },
    {
     "data": {
      "image/png": "[encoded data removed]",
      "text/plain": [
       "<Figure size 864x144 with 1 Axes>"
      ]
     },
     "metadata": {
      "needs_background": "light"
     },
     "output_type": "display_data"
    },
    {
     "name": "stdout",
     "output_type": "stream",
     "text": [
      "\n",
      "\n",
      "tensor([ 0.0546, -0.0350, -0.0233,  ...,  0.0780,  0.1136, -0.0037])\n"
     ]
    },
    {
     "data": {
      "image/png": "[encoded data removed]",
      "text/plain": [
       "<Figure size 864x144 with 1 Axes>"
      ]
     },
     "metadata": {
      "needs_background": "light"
     },
     "output_type": "display_data"
    },
    {
     "name": "stdout",
     "output_type": "stream",
     "text": [
      "\n",
      "\n",
      "tensor([ 0.0681, -0.0522,  0.0188,  ...,  0.0529,  0.1298,  0.0826])\n"
     ]
    },
    {
     "data": {
      "image/png": "[encoded data removed]",
      "text/plain": [
       "<Figure size 864x144 with 1 Axes>"
      ]
     },
     "metadata": {
      "needs_background": "light"
     },
     "output_type": "display_data"
    },
    {
     "name": "stdout",
     "output_type": "stream",
     "text": [
      "\n",
      "\n"
     ]
    }
   ],
   "source": [
    "sentence_1 = \"Hello there, here's an example sentence\"\n",
    "embedding_1 = model.encoder.encode(sentence_1).squeeze()\n",
    "visualize_embedding(sentence_1, embedding_1)\n",
    "\n",
    "sentence_2 = \"I am having a great day today\"\n",
    "embedding_2 = model.encoder.encode(sentence_2).squeeze()\n",
    "visualize_embedding(sentence_2, embedding_2)\n",
    "\n",
    "sentence_3 = \"Advanced Topics in Computational Semantics is the best course ever\"\n",
    "embedding_3 = model.encoder.encode(sentence_3).squeeze()\n",
    "visualize_embedding(sentence_3, embedding_3)"
   ]
  },
  {
   "cell_type": "markdown",
   "id": "806c63ab-96cf-4436-bbf6-bae37205658c",
   "metadata": {},
   "source": [
    "Try it with your own sentence!"
   ]
  },
  {
   "cell_type": "code",
   "execution_count": 9,
   "id": "fc1e1326-446d-4896-8874-1b7f3bb5c0f6",
   "metadata": {},
   "outputs": [
    {
     "name": "stdout",
     "output_type": "stream",
     "text": [
      "tensor([ 0.0619,  0.0379,  0.0548,  ...,  0.0199, -0.0375,  0.1120])\n"
     ]
    },
    {
     "data": {
      "image/png": "[encoded data removed]",
      "text/plain": [
       "<Figure size 864x144 with 1 Axes>"
      ]
     },
     "metadata": {
      "needs_background": "light"
     },
     "output_type": "display_data"
    },
    {
     "name": "stdout",
     "output_type": "stream",
     "text": [
      "\n",
      "\n"
     ]
    }
   ],
   "source": [
    "sentence_yours = \"Replace this string with your own sentence and rerun this cell.\"\n",
    "embedding_yours = model.encoder.encode(sentence_yours).squeeze()\n",
    "visualize_embedding(sentence_yours, embedding_yours)"
   ]
  },
  {
   "cell_type": "markdown",
   "id": "6f124ff2-b016-44c9-b552-3513a4659aeb",
   "metadata": {},
   "source": [
    "## Results"
   ]
  },
  {
   "cell_type": "markdown",
   "id": "aebb94ff-77af-4f99-b296-e19a93edf71a",
   "metadata": {},
   "source": [
    "### Training/Validation Loss/Accuracy Curves\n",
    "\n",
    "Before plotting, I am parsing my tensorboard logs into pandas dataframe"
   ]
  },
  {
   "cell_type": "code",
   "execution_count": 10,
   "id": "1ade0094-1871-441d-b1be-7ad6d6f60cc2",
   "metadata": {},
   "outputs": [],
   "source": [
    "curve_data = {\n",
    "    \"baseline\": {\n",
    "        \"path\": \"logs/baseline/version_6/events.out.tfevents.1650372334.r30n2.lisa.surfsara.nl.31820.0\",\n",
    "        \"curves\": {},\n",
    "    },\n",
    "    \"lstm\": {\n",
    "        \"path\": \"logs/lstm/version_5/events.out.tfevents.1650372335.r30n6.lisa.surfsara.nl.8799.0\",\n",
    "        \"curves\": {},\n",
    "    },\n",
    "    \"bilstm\": {\n",
    "        \"path\": \"logs/bilstm/version_4/events.out.tfevents.1650373927.r30n2.lisa.surfsara.nl.4844.0\",\n",
    "        \"curves\": {},\n",
    "    },\n",
    "    \"maxpoolbilstm\": {\n",
    "        \"path\": \"logs/maxpoolbilstm/version_3/events.out.tfevents.1650380196.r31n5.lisa.surfsara.nl.23051.0\",\n",
    "        \"curves\": {},\n",
    "    },\n",
    "}"
   ]
  },
  {
   "cell_type": "code",
   "execution_count": 11,
   "id": "cd50ff28-9ef1-45de-8ff2-44beb58a670b",
   "metadata": {},
   "outputs": [],
   "source": [
    "for encoder_type in curve_data.keys():\n",
    "    curve_data[encoder_type][\"curves\"] = utils.parse_tensorboard(\n",
    "        curve_data[encoder_type][\"path\"],\n",
    "        [\"train_loss\", \"train_acc\", \"val_loss\", \"val_acc\"],\n",
    "    )"
   ]
  },
  {
   "cell_type": "markdown",
   "id": "9951c1cc-6eb7-4318-a6e0-a6e4ca85d5a5",
   "metadata": {
    "tags": []
   },
   "source": [
    "### Performance Evaluation"
   ]
  },
  {
   "cell_type": "code",
   "execution_count": null,
   "id": "c653ca63-ee0b-4820-8f45-0ed4e4d83923",
   "metadata": {},
   "outputs": [],
   "source": []
  }
 ],
 "metadata": {
  "kernelspec": {
   "display_name": "Python 3 (ipykernel)",
   "language": "python",
   "name": "python3"
  },
  "language_info": {
   "codemirror_mode": {
    "name": "ipython",
    "version": 3
   },
   "file_extension": ".py",
   "mimetype": "text/x-python",
   "name": "python",
   "nbconvert_exporter": "python",
   "pygments_lexer": "ipython3",
   "version": "3.10.4"
  },
  "toc-showtags": false
 },
 "nbformat": 4,
 "nbformat_minor": 5
}
