{
 "cells": [
  {
   "cell_type": "markdown",
   "id": "d69513c8-123d-436a-9c25-10e7c47a85d0",
   "metadata": {},
   "source": [
    "# InferSent - Demonstration"
   ]
  },
  {
   "cell_type": "code",
   "execution_count": 1,
   "id": "4b36fe44-c3dd-4b41-8f95-f5d8f4876a32",
   "metadata": {},
   "outputs": [],
   "source": [
    "# TODO"
   ]
  }
 ],
 "metadata": {
  "kernelspec": {
   "display_name": "Python 3 (ipykernel)",
   "language": "python",
   "name": "python3"
  },
  "language_info": {
   "codemirror_mode": {
    "name": "ipython",
    "version": 3
   },
   "file_extension": ".py",
   "mimetype": "text/x-python",
   "name": "python",
   "nbconvert_exporter": "python",
   "pygments_lexer": "ipython3",
   "version": "3.10.4"
  }
 },
 "nbformat": 4,
 "nbformat_minor": 5
}
