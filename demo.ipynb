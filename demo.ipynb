{
 "cells": [
  {
   "cell_type": "markdown",
   "id": "d69513c8-123d-436a-9c25-10e7c47a85d0",
   "metadata": {},
   "source": [
    "# InferSent - Demonstration\n",
    "\n",
    "This notebook serves as a demonstration of the usage of a trained InferSent model, as well as training and performance results on the original SNLI task and on SentEval. The notebook also provides some error analysis (discussion) on the results."
   ]
  },
  {
   "cell_type": "markdown",
   "id": "542cae2b-e857-43f8-b2ab-347d6803d5aa",
   "metadata": {
    "tags": []
   },
   "source": [
    "## Setup\n",
    "\n",
    "The notebook assumes the user has access to the pretrained models, logs and evaluation results provided via the [archive.org](https://archive.org) link specified in `README.md`. The notebook also assumes the user has run the `data.py` script with its default arguments such that aligned glove embeddings are available.\n",
    "\n",
    "First we define our imports"
   ]
  },
  {
   "cell_type": "code",
   "execution_count": 1,
   "id": "d05433cd-4077-4266-bc77-01edc90763b1",
   "metadata": {},
   "outputs": [],
   "source": [
    "import pickle\n",
    "\n",
    "import torch\n",
    "import matplotlib.pyplot as plt\n",
    "import numpy as np\n",
    "from tqdm import tqdm\n",
    "import pandas as pd\n",
    "\n",
    "from models.infersent import InferSent\n",
    "import utils"
   ]
  },
  {
   "cell_type": "markdown",
   "id": "605f988b-afe9-4f01-9d14-855e18133a78",
   "metadata": {},
   "source": [
    "We continue by defining a configuration dictionary that we can access throughout the demo. Of course we can change the values of our config accordingly."
   ]
  },
  {
   "cell_type": "code",
   "execution_count": 2,
   "id": "67682d94-0775-4239-8bbb-d58374db7c5f",
   "metadata": {},
   "outputs": [],
   "source": [
    "demo_config = {\n",
    "    # one of 'baseline', 'lstm', 'bilstm', 'maxpoolbilstm'\n",
    "    \"encoder_type\": \"maxpoolbilstm\",\n",
    "    # path to model checkpoint. by default we load the maxpoolbilstm\n",
    "    \"checkpoint_path\": \"logs/maxpoolbilstm/version_3/checkpoints/epoch=6-step=60088.ckpt\",\n",
    "    # random seed for reproducibility\n",
    "    \"seed\": 42,\n",
    "    # where to load aligned GloVe torch tensor from\n",
    "    \"aligned_glove\": \"data/aligned_glove.pt\",\n",
    "}"
   ]
  },
  {
   "cell_type": "markdown",
   "id": "7c24eef4-574f-4f12-90e0-bc114be13c29",
   "metadata": {},
   "source": [
    "## Model Loading\n",
    "\n",
    "We can instantiate the model we will use from the checkpoint path we defined. Because the GloVe embeddings are not saved in the model, after instatiating our model we load them into it in a separate call."
   ]
  },
  {
   "cell_type": "code",
   "execution_count": 3,
   "id": "796dd346-2412-4ee6-9614-3c461d55ff73",
   "metadata": {},
   "outputs": [],
   "source": [
    "# instantiate pretrained model\n",
    "infsent_model = InferSent.load_from_checkpoint(demo_config[\"checkpoint_path\"])\n",
    "# load aligned GloVe embeddings from disk\n",
    "aligned_glove = torch.load(demo_config[\"aligned_glove\"])\n",
    "# and load them into our model\n",
    "infsent_model.load_embeddings(aligned_glove)"
   ]
  },
  {
   "cell_type": "markdown",
   "id": "a430e578-0f67-46ac-b8cd-23358a3f5487",
   "metadata": {},
   "source": [
    "## Inference examples\n",
    "\n",
    "The InferSent model is trained to perform Natural Language Inference (NLI), i.e. predicting whether a \"hypothesis\" sentence is true (\"entailment\"), not true (\"contradiction\") or neither (\"neutral\") given a \"premise\" sentence.\n",
    "\n",
    "This task is a \"proxy\" task used for training an encoder sub-model that can be used to embed sentences.\n",
    "\n",
    "Below, we will first see how we can use the model for performing NLI and then how we can use its encoder to obtain an embedding (vector)."
   ]
  },
  {
   "cell_type": "markdown",
   "id": "3d43eb86-d79e-4792-865a-d6fc0f9dab2e",
   "metadata": {},
   "source": [
    "### NLI\n",
    "\n",
    "Here is our model predicting the entailment between a few pairs of sentences"
   ]
  },
  {
   "cell_type": "code",
   "execution_count": 4,
   "id": "41ca43d8-ad26-43fe-ac9d-351e78b08525",
   "metadata": {},
   "outputs": [],
   "source": [
    "# first, a quick helper function for printing\n",
    "def print_entailment_res(premise, hypothesis, result):\n",
    "    print(f\"premise: {premise}\")\n",
    "    print(f\"hypothesis: {hypothesis}\")\n",
    "    print(f\"model prediction: {result}\")\n",
    "    print(\"------------\\n\")\n"
   ]
  },
  {
   "cell_type": "code",
   "execution_count": 5,
   "id": "43abe6b4-e239-48a5-ab9e-69e594a1a7e6",
   "metadata": {},
   "outputs": [
    {
     "name": "stdout",
     "output_type": "stream",
     "text": [
      "premise: A concave lens is thinner in the middle than it is near its edges.\n",
      "hypothesis: A concave lens is thicker at the edges than it is in the middle.\n",
      "model prediction: entailment\n",
      "------------\n",
      "\n",
      "premise: but that takes too much planning\n",
      "hypothesis: It doesn't take much planning.\n",
      "model prediction: contradiction\n",
      "------------\n",
      "\n",
      "premise: Energy, heat and/or sound are forms of matter\n",
      "hypothesis: Heat, light, and sound are all different forms of energy.\n",
      "model prediction: neutral\n",
      "------------\n",
      "\n"
     ]
    }
   ],
   "source": [
    "# entailment example from SciTail\n",
    "premise_1 = \"A concave lens is thinner in the middle than it is near its edges.\"\n",
    "hypothesis_1 = \"A concave lens is thicker at the edges than it is in the middle.\"\n",
    "result_1 = infsent_model.predict(premise_1, hypothesis_1)\n",
    "print_entailment_res(premise_1, hypothesis_1, result_1)\n",
    "\n",
    "# contradiction example from multiNLI\n",
    "premise_2 = \"but that takes too much planning\"\n",
    "hypothesis_2 = \"It doesn't take much planning.\"\n",
    "result_2 = infsent_model.predict(premise_2, hypothesis_2)\n",
    "print_entailment_res(premise_2, hypothesis_2, result_2)\n",
    "\n",
    "# neutral example from SciTail\n",
    "premise_3 = \"Energy, heat and/or sound are forms of matter\"\n",
    "hypothesis_3 = \"Heat, light, and sound are all different forms of energy.\"\n",
    "result_3 = infsent_model.predict(premise_3, hypothesis_3)\n",
    "print_entailment_res(premise_3, hypothesis_3, result_3)"
   ]
  },
  {
   "cell_type": "markdown",
   "id": "4dd78b96-74d9-4709-87e4-8d5ca0e21724",
   "metadata": {},
   "source": [
    "Don't trust that those weren't just hard-coded in the model? Try with some sentences of your own!"
   ]
  },
  {
   "cell_type": "code",
   "execution_count": 6,
   "id": "383affa7-3c40-4e28-bba3-9fdf56185ed9",
   "metadata": {},
   "outputs": [
    {
     "name": "stdout",
     "output_type": "stream",
     "text": [
      "premise: Replace this string with your premise.\n",
      "hypothesis: Replace this string with your hypothesis.\n",
      "model prediction: neutral\n",
      "------------\n",
      "\n"
     ]
    }
   ],
   "source": [
    "# replace these strings and rerun this cell\n",
    "premise_yours = \"Replace this string with your premise.\"\n",
    "hypothesis_yours = \"Replace this string with your hypothesis.\"\n",
    "result_yours = infsent_model.predict(premise_yours, hypothesis_yours)\n",
    "\n",
    "print_entailment_res(premise_yours, hypothesis_yours, result_yours)"
   ]
  },
  {
   "cell_type": "markdown",
   "id": "e9c6a27f-828c-49b6-882d-31f8823a5565",
   "metadata": {},
   "source": [
    "### Sentence Encoding"
   ]
  },
  {
   "cell_type": "markdown",
   "id": "ea189623-229e-4a4e-98df-8334d4ef0477",
   "metadata": {},
   "source": [
    "Here is our model encoding a few sentences. Of course, just embedding a sentence is quite useless if you don't do anything with the embedding afterwards, but this is just a quick demonstration which can be extended."
   ]
  },
  {
   "cell_type": "code",
   "execution_count": 7,
   "id": "39568439-6039-4c16-ba7f-775b7dd29c41",
   "metadata": {},
   "outputs": [],
   "source": [
    "# first a helper function\n",
    "def visualize_embedding(sentence, embedding, ylim=None):\n",
    "    print(embedding)\n",
    "    plt.figure(figsize=(12, 2))\n",
    "    plt.title(f\"'{sentence}'\")\n",
    "    plt.xlabel(\"dimension\")\n",
    "    plt.bar(np.arange(len(embedding)), embedding.cpu().numpy())\n",
    "    plt.tight_layout()\n",
    "    if ylim:\n",
    "        plt.ylim(ylim)\n",
    "    plt.show()\n",
    "    print(\"\\n\")"
   ]
  },
  {
   "cell_type": "code",
   "execution_count": null,
   "id": "127e1d39-448d-4516-bd8a-513d370ac649",
   "metadata": {},
   "outputs": [
    {
     "name": "stdout",
     "output_type": "stream",
     "text": [
      "tensor([ 0.0513, -0.0105,  0.0309,  ...,  0.0399, -0.0280,  0.1223])\n"
     ]
    },
    {
     "data": {
      "image/png": "[encoded data removed]",
      "text/plain": [
       "<Figure size 864x144 with 1 Axes>"
      ]
     },
     "metadata": {
      "needs_background": "light"
     },
     "output_type": "display_data"
    },
    {
     "name": "stdout",
     "output_type": "stream",
     "text": [
      "\n",
      "\n",
      "tensor([ 0.0546, -0.0350, -0.0233,  ...,  0.0780,  0.1136, -0.0037])\n"
     ]
    }
   ],
   "source": [
    "sentence_1 = \"Hello there, here's an example sentence\"\n",
    "embedding_1 = infsent_model.encoder.encode(sentence_1).squeeze()\n",
    "visualize_embedding(sentence_1, embedding_1)\n",
    "\n",
    "sentence_2 = \"I am having a great day today\"\n",
    "embedding_2 = infsent_model.encoder.encode(sentence_2).squeeze()\n",
    "visualize_embedding(sentence_2, embedding_2)\n",
    "\n",
    "sentence_3 = \"Advanced Topics in Computational Semantics is the best course ever\"\n",
    "embedding_3 = infsent_model.encoder.encode(sentence_3).squeeze()\n",
    "visualize_embedding(sentence_3, embedding_3)"
   ]
  },
  {
   "cell_type": "markdown",
   "id": "806c63ab-96cf-4436-bbf6-bae37205658c",
   "metadata": {},
   "source": [
    "Try it with your own sentence!"
   ]
  },
  {
   "cell_type": "code",
   "execution_count": null,
   "id": "fc1e1326-446d-4896-8874-1b7f3bb5c0f6",
   "metadata": {},
   "outputs": [],
   "source": [
    "sentence_yours = \"Replace this string with your own sentence and rerun this cell.\"\n",
    "embedding_yours = infsent_model.encoder.encode(sentence_yours).squeeze()\n",
    "visualize_embedding(sentence_yours, embedding_yours)"
   ]
  },
  {
   "cell_type": "markdown",
   "id": "6f124ff2-b016-44c9-b552-3513a4659aeb",
   "metadata": {},
   "source": [
    "## Results"
   ]
  },
  {
   "cell_type": "markdown",
   "id": "aebb94ff-77af-4f99-b296-e19a93edf71a",
   "metadata": {},
   "source": [
    "### Training/Validation Loss/Accuracy Curves\n",
    "\n",
    "Training/Validation loss and accuracy were logged in a tensorboard-compatible\n",
    "format. We can load tensorboard directly in the notebook and view them. Users\n",
    "are suggested to do the following:\n",
    "\n",
    "1. change to the `TIME SERIES` tab on the top,\n",
    "2. pin the `train_acc`, `train_loss` `val_acc`, `val_loss` metrics\n",
    "3. activate all the runs on the left hand side except `maxpoolbilstm/version_1`,\n",
    "   as these are the runs corresponding to the best model for each encoder type."
   ]
  },
  {
   "cell_type": "code",
   "execution_count": null,
   "id": "4a964749-07cf-4ba0-8ba5-c1d857c752b9",
   "metadata": {},
   "outputs": [],
   "source": [
    "%load_ext tensorboard\n",
    "%tensorboard --logdir logs"
   ]
  },
  {
   "cell_type": "markdown",
   "id": "38d2aaca-0742-4dc5-9cb3-4401a53c60dd",
   "metadata": {},
   "source": [
    "A few observations can be made with regards to the learning curves. First, from the validation accuracy curves we can see a clear difference in performance between the baseline model and the LSTM models, with the Max-pooled BiLSTM achieving the highest validation accuracy throughout. From these curves it is interesting to note the similarity in performance between the LSTM and the 'plain' BiLSTM, which actually does marginally worse albeit training for slightly less epochs. It is unclear why this occurs, especially since the BiLSTM contains the same information as the LSTM and could just learn to discard the additional concatenated information from the reversed LSTM. This may be explained by overfitting, with further evidence from the BiLSTM training accuracy being higher than the LSTM. This, combined with the much slower training time (2.05 hours vs 3.895 hours), indicates that the 'plain' BiLSTM is a worse choice than the LSTM, at least when it comes to SNLI (we will see and discuss SentEval performance later).\n",
    "\n",
    "On the subject of training time, we can gather more insights by hovering over the curves. While we see that the implemented early stopping criterion (stop when learning rate goes under $10^{-5}$) causes all models to end training between 12-15 epochs, the underlying run time is quite different, ranging from 26 minutes for the baseline model to 3.992 hours for the MaxPoolBiLSTM model. This range can be appreciated by changing the x-axis to relative.\n",
    "\n",
    "One may argue that the stopping criterion outlined in the paper was a bit too lenient and users may have benefited time-wise from more informed criterions. The behaviour of the validation loss curves in the LSTM-based models, with an initial dip followed by a slow rise may have been useful, particularly in combination with the validation accuracy curves. Perhaps the authors intuited that longer training could lead to better generalized sentence encoders at the expense of slightly worse NLI performance. This is similar reasoning as for why the same encoder is used for hypothesis and premise as opposed to using two separate specialized encoders.\n",
    "\n",
    "One final observation can be made by activating only the MaxPoolBiLSTM runs (version 1 and 3). Here, version 1 is an \"incorrect\" implementation of the MaxPoolBiLSTM described by the authors, where the padded values of 0 hidden states the LSTM are not masked out as they should be, to avoid incorrectly selecting them when max-pooling hiddenstates with only negative values. Despite this incorrectness, this version seems to outperform the \"correct\" implementation in terms of validation accuracy. One possible explanation for this is that not masking out the 0's somewhat simulates the application of a ReLU non-linearity, which generally makes networks more expressive. Another explanation can be that the zeros could mimic some kind of frankensteined dropout. Regardless, the difference in performance is somewhat marginal and for the moment devoid of an estimated uncertainty, making it difficult to rigorously compare. Because we were interesting in replicating parts of the original work, the `version_1` was disregarded for the rest of the work."
   ]
  },
  {
   "cell_type": "markdown",
   "id": "9951c1cc-6eb7-4318-a6e0-a6e4ca85d5a5",
   "metadata": {
    "tags": []
   },
   "source": [
    "### Performance Evaluation"
   ]
  },
  {
   "cell_type": "markdown",
   "id": "e9cdf907-3d43-4d34-911f-f9a85271c209",
   "metadata": {},
   "source": [
    "We've so far examined what our models can do, and how they behaved while training. How do they do in testing? For this, we evaluate our models both on the original SNLI task, as well as the SentEval sentence embedding evaluation suite, particularly the 'MR', 'CR', 'SUBJ', 'MPQA', 'SST2', 'TREC', 'MRPC', and 'SICKEntailment' transfer tasks. This is done via `eval.py`. After some parsing of the results, we report \"micro\" and \"macro\" validation set accuracy on the transfer tasks, where \"macro\" refers to the classical average accuracy across the tasks while \"micro\" refers to the average accuracy across the tasks weighted by the number of samples."
   ]
  },
  {
   "cell_type": "code",
   "execution_count": null,
   "id": "1ade0094-1871-441d-b1be-7ad6d6f60cc2",
   "metadata": {},
   "outputs": [],
   "source": [
    "# basic setup datastructures\n",
    "senteval_tasks = {\"MR\", \"CR\", \"SUBJ\", \"MPQA\", \"SST2\", \"TREC\", \"MRPC\", \"SICKEntailment\"}\n",
    "eval_data = {\n",
    "    \"baseline\": {\n",
    "        \"name\": \"Baseline\",\n",
    "        \"dim\": 300,\n",
    "        \"snli\": {},\n",
    "        \"senteval\": {},\n",
    "    },\n",
    "    \"lstm\": {\n",
    "        \"name\": \"LSTM\",\n",
    "        \"dim\": 2048,\n",
    "        \"snli\": {},\n",
    "        \"senteval\": {},\n",
    "    },\n",
    "    \"bilstm\": {\n",
    "        \"name\": \"BiLSTM\",\n",
    "        \"dim\": 4096,\n",
    "        \"snli\": {},\n",
    "        \"senteval\": {},\n",
    "    },\n",
    "    \"maxpoolbilstm\": {\n",
    "        \"name\": \"BiLSTM-Max\",\n",
    "        \"dim\": 4096,\n",
    "        \"snli\": {},\n",
    "        \"senteval\": {},\n",
    "    },\n",
    "}"
   ]
  },
  {
   "cell_type": "code",
   "execution_count": null,
   "id": "7a91c27c-ea59-454e-83ce-d8bdf842119a",
   "metadata": {},
   "outputs": [],
   "source": [
    "for model in eval_data.keys():\n",
    "    with open(f\"logs/{model}/eval/snli/val.pkl\", \"rb\") as f:\n",
    "        eval_data[model][\"snli\"][\"val\"] = pickle.load(f)[0][\"val_acc\"]\n",
    "    with open(f\"logs/{model}/eval/snli/test.pkl\", \"rb\") as f:\n",
    "        eval_data[model][\"snli\"][\"test\"] = pickle.load(f)[0][\"test_acc\"]\n",
    "    with open(f\"logs/{model}/eval/senteval/results.pkl\", \"rb\") as f:\n",
    "        eval_data[model][\"senteval\"] = {\n",
    "            k: v for k, v in pickle.load(f).items() if k in senteval_tasks\n",
    "        }"
   ]
  },
  {
   "cell_type": "code",
   "execution_count": null,
   "id": "896cbf98-0c6c-45b5-b89b-752f8660e35b",
   "metadata": {},
   "outputs": [],
   "source": [
    "sub_dfs = {}\n",
    "\n",
    "# the models\n",
    "model_keys = eval_data.keys()\n",
    "# the sum of total dev samples in SentEval across the tasks\n",
    "senteval_ndev_sum = sum(\n",
    "    [eval_data[\"baseline\"][\"senteval\"][task][\"ndev\"] for task in senteval_tasks]\n",
    ")\n",
    "\n",
    "# dimensionality of embedding\n",
    "sub_dfs[\"dim\"] = pd.DataFrame(\n",
    "    columns=[\"Model\", \"\"],\n",
    "    data={\n",
    "        \"Model\": [eval_data[model][\"name\"] for model in model_keys],\n",
    "        \"\": [eval_data[model][\"dim\"] for model in model_keys],\n",
    "    },\n",
    ").set_index(\"Model\")\n",
    "\n",
    "# NLI test and val accuracy\n",
    "sub_dfs[\"NLI\"] = pd.DataFrame(\n",
    "    columns=[\"Model\", \"dev\", \"test\"],\n",
    "    data={\n",
    "        \"Model\": [eval_data[model][\"name\"] for model in model_keys],\n",
    "        \"dev\": [eval_data[model][\"snli\"][\"val\"] * 100 for model in model_keys],\n",
    "        \"test\": [eval_data[model][\"snli\"][\"test\"] * 100 for model in model_keys],\n",
    "    },\n",
    ").set_index(\"Model\")\n",
    "\n",
    "# Transfer micro and macro val accuracy\n",
    "sub_dfs[\"Transfer\"] = pd.DataFrame(\n",
    "    columns=[\"Model\", \"micro\", \"macro\"],\n",
    "    data={\n",
    "        \"Model\": [eval_data[model][\"name\"] for model in eval_data.keys()],\n",
    "        \"micro\": [\n",
    "            np.sum(\n",
    "                [\n",
    "                    eval_data[model][\"senteval\"][task][\"devacc\"]\n",
    "                    * ((eval_data[model][\"senteval\"][task][\"ndev\"]) / senteval_ndev_sum)\n",
    "                    for task in senteval_tasks\n",
    "                ]\n",
    "            )\n",
    "            for model in model_keys\n",
    "        ],\n",
    "        \"macro\": [\n",
    "            np.mean(\n",
    "                [\n",
    "                    eval_data[model][\"senteval\"][task][\"devacc\"]\n",
    "                    for task in senteval_tasks\n",
    "                ]\n",
    "            )\n",
    "            for model in model_keys\n",
    "        ],\n",
    "    },\n",
    ").set_index(\"Model\")\n",
    "\n",
    "eval_df = pd.concat(sub_dfs, axis=1)\n",
    "\n",
    "# highlight the maximum in each column (except the dim column)\n",
    "def highlight_max(x):\n",
    "    if \"dim\" not in x.name:\n",
    "        return [\"font-weight: bold; precision:1\" if v == x.max() else \"\" for v in x]\n",
    "    else:\n",
    "        return [\"\" for v in x]\n",
    "# eval_df.style.apply(highlight_max)"
   ]
  },
  {
   "cell_type": "code",
   "execution_count": null,
   "id": "b3302c15-3f5e-45cf-aa0c-8247237d0129",
   "metadata": {},
   "outputs": [],
   "source": [
    "eval_df.style.apply(highlight_max).format(precision=1).set_caption(\n",
    "    \"Table 1: Partial Replication of Table 3 of Conneau et al. (2017)\"\n",
    ")"
   ]
  },
  {
   "cell_type": "markdown",
   "id": "61bfb249-8639-454d-9609-2cda1070744f",
   "metadata": {},
   "source": [
    "Table 1 shows the validation (a.k.a. \"dev\") and test accuracy of the four models implemented in this repository on the NLI task, as evaluated on the SNLI dataset. It also shows the micro and macro validation accuracy across the SentEval tasks outlined above. A few remarks can be made.\n",
    "\n",
    "Firstly, we see that the trends from validation accuracy on SNLI are mirrored in the test accuracy, so the discussion from the validation curves above holds. With regards to replication, for the LSTM and BiLSTM-Max model test accuracy we are decently close to the original results of the authors.\n",
    "\n",
    "What is perhaps more interesting however is how the models perform micro- and macro-wise on the SentEval transfer tasks. We see that while the BiLSTM-Max model still achieves the highest performance, the range across the various architectures is now much more compact, ranging from 79.0 to 80.7 macro-wise and 77.2 to 81.2 micro-wise. This seems to suggest that the underlying force dominating sentence-embedding performance is some aspect of the architecture that is shared across all variants. This theory may explain why the Baseline model, almost entirely based on the GloVe word-embeddings used in all models, performs so comparatively well in this case, coming second only to the best model both micro- and macro-wise.\n",
    "\n",
    "If this were indeed the case, it would suggest that word-order is not properly learned in the LSTM models, despite the sequential nature of their learning. We can verify this by trying two sentences whose meanings are opposite but words are the same. If word order matters, the resulting word-embeddings should differ, i.e. the difference should be non-zero "
   ]
  },
  {
   "cell_type": "code",
   "execution_count": null,
   "id": "7a42b944-9a3a-4081-a33c-d18702597c59",
   "metadata": {},
   "outputs": [],
   "source": [
    "neg_sent = \"bad, not good\"\n",
    "neg_emb = infsent_model.encoder.encode(neg_sent).squeeze()\n",
    "visualize_embedding(neg_sent, neg_emb, [-0.15, 0.275])\n",
    "\n",
    "\n",
    "pos_sent = \"good, not bad\"\n",
    "pos_emb = infsent_model.encoder.encode(pos_sent).squeeze()\n",
    "visualize_embedding(pos_sent, pos_emb, [-0.15, 0.275])\n",
    "\n",
    "diff_emb = neg_emb - pos_emb\n",
    "visualize_embedding(\n",
    "    \"Difference between 'bad, not good' and 'good, not bad'\", diff_emb, [-0.15, 0.275]\n",
    ")"
   ]
  },
  {
   "cell_type": "markdown",
   "id": "09ef34d1-d5e8-48dd-a553-50a929f529bc",
   "metadata": {},
   "source": [
    "While the difference is indeed non-zero, we do note that the embeddings are quite similar despite the sentences having opposite meanings. This can be interpreted as word order not fully being exploited. \n",
    "\n",
    "This may be a limit of the models employed, which at best visit sentences sequentially in both directions, but cannot examine the sentences as a graph to construct inner representations akin to a parse tree, where word order becomes increasingly useful. At the expense of triteness, it would be interesting to extend the InferSent architecture with a transformer, BERT-like encoder for the sentences, to examine whether self-attention could be leveraged for improved SentEval performance."
   ]
  }
 ],
 "metadata": {
  "kernelspec": {
   "display_name": "Python 3 (ipykernel)",
   "language": "python",
   "name": "python3"
  },
  "language_info": {
   "codemirror_mode": {
    "name": "ipython",
    "version": 3
   },
   "file_extension": ".py",
   "mimetype": "text/x-python",
   "name": "python",
   "nbconvert_exporter": "python",
   "pygments_lexer": "ipython3",
   "version": "3.10.4"
  },
  "toc-showtags": false
 },
 "nbformat": 4,
 "nbformat_minor": 5
}
